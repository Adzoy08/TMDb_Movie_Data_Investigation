{
 "cells": [
  {
   "cell_type": "markdown",
   "metadata": {},
   "source": [
    "# TMDb Movie Data Investigation\n",
    "By: Samuel D. Boadi<br/>\n",
    "[LinkedIn Profile](https://www.linkedin.com/in/samuel-duah-boadi-8ab46944/)"
   ]
  },
  {
   "cell_type": "markdown",
   "metadata": {},
   "source": [
    "## Table of Contents\n",
    "<ul>\n",
    "<li><a href=\"#intro\">Introduction</a></li>       \n",
    "<li><a href=\"#wrangling\">Data Wrangling</a></li>\n",
    "<li><a href=\"#eda\">Exploratory Data Analysis</a></li>\n",
    "<li><a href=\"#conclusions\">Conclusions</a></li>\n",
    "</ul>"
   ]
  },
  {
   "cell_type": "markdown",
   "metadata": {},
   "source": [
    "<a id='intro'></a>\n",
    "## Introduction\n",
    "\n",
    "### Dataset Description \n",
    "\n",
    "> TMDb Movie data was pulled from [Kaggle](https://www.kaggle.com/datasets/tmdb/tmdb-movie-metadata?datasetId=138). <br/>\n",
    "The dataset contains information about 10,000 movies generated from The Movie Database. \n",
    "\n",
    "\n",
    "<a id='questions'></a>\n",
    "### Questions for Analysis\n",
    "<ul>\n",
    "<li>Which genres are most popular from year to year?</li>\n",
    "<li>What kinds of properties are associated with movies that have high revenues</li>\n",
    "<li>What's the trend of number of movies produced through the period?</li>\n",
    "</ul>"
   ]
  },
  {
   "cell_type": "code",
   "execution_count": 1,
   "metadata": {},
   "outputs": [],
   "source": [
    "# import statements for all of the necessary packages\n",
    "import numpy as np\n",
    "import pandas as pd\n",
    "import matplotlib.pyplot as plt\n",
    "import warnings\n",
    "warnings.filterwarnings(\"ignore\")\n",
    "\n",
    "# including a 'magic word' so that visualizations are plotted\n",
    "#   inline with the notebook.\n",
    "%matplotlib inline"
   ]
  },
  {
   "cell_type": "markdown",
   "metadata": {},
   "source": [
    "<a id='wrangling'></a>\n",
    "## Data Wrangling\n",
    "\n",
    "### General Properties"
   ]
  },
  {
   "cell_type": "code",
   "execution_count": 2,
   "metadata": {},
   "outputs": [
    {
     "data": {
      "text/html": [
       "<div>\n",
       "<style scoped>\n",
       "    .dataframe tbody tr th:only-of-type {\n",
       "        vertical-align: middle;\n",
       "    }\n",
       "\n",
       "    .dataframe tbody tr th {\n",
       "        vertical-align: top;\n",
       "    }\n",
       "\n",
       "    .dataframe thead th {\n",
       "        text-align: right;\n",
       "    }\n",
       "</style>\n",
       "<table border=\"1\" class=\"dataframe\">\n",
       "  <thead>\n",
       "    <tr style=\"text-align: right;\">\n",
       "      <th></th>\n",
       "      <th>id</th>\n",
       "      <th>imdb_id</th>\n",
       "      <th>popularity</th>\n",
       "      <th>budget</th>\n",
       "      <th>revenue</th>\n",
       "      <th>original_title</th>\n",
       "      <th>cast</th>\n",
       "      <th>homepage</th>\n",
       "      <th>director</th>\n",
       "      <th>tagline</th>\n",
       "      <th>...</th>\n",
       "      <th>overview</th>\n",
       "      <th>runtime</th>\n",
       "      <th>genres</th>\n",
       "      <th>production_companies</th>\n",
       "      <th>release_date</th>\n",
       "      <th>vote_count</th>\n",
       "      <th>vote_average</th>\n",
       "      <th>release_year</th>\n",
       "      <th>budget_adj</th>\n",
       "      <th>revenue_adj</th>\n",
       "    </tr>\n",
       "  </thead>\n",
       "  <tbody>\n",
       "    <tr>\n",
       "      <th>0</th>\n",
       "      <td>135397</td>\n",
       "      <td>tt0369610</td>\n",
       "      <td>32.985763</td>\n",
       "      <td>150000000</td>\n",
       "      <td>1513528810</td>\n",
       "      <td>Jurassic World</td>\n",
       "      <td>Chris Pratt|Bryce Dallas Howard|Irrfan Khan|Vi...</td>\n",
       "      <td>http://www.jurassicworld.com/</td>\n",
       "      <td>Colin Trevorrow</td>\n",
       "      <td>The park is open.</td>\n",
       "      <td>...</td>\n",
       "      <td>Twenty-two years after the events of Jurassic ...</td>\n",
       "      <td>124</td>\n",
       "      <td>Action|Adventure|Science Fiction|Thriller</td>\n",
       "      <td>Universal Studios|Amblin Entertainment|Legenda...</td>\n",
       "      <td>6/9/15</td>\n",
       "      <td>5562</td>\n",
       "      <td>6.5</td>\n",
       "      <td>2015</td>\n",
       "      <td>1.379999e+08</td>\n",
       "      <td>1.392446e+09</td>\n",
       "    </tr>\n",
       "    <tr>\n",
       "      <th>1</th>\n",
       "      <td>76341</td>\n",
       "      <td>tt1392190</td>\n",
       "      <td>28.419936</td>\n",
       "      <td>150000000</td>\n",
       "      <td>378436354</td>\n",
       "      <td>Mad Max: Fury Road</td>\n",
       "      <td>Tom Hardy|Charlize Theron|Hugh Keays-Byrne|Nic...</td>\n",
       "      <td>http://www.madmaxmovie.com/</td>\n",
       "      <td>George Miller</td>\n",
       "      <td>What a Lovely Day.</td>\n",
       "      <td>...</td>\n",
       "      <td>An apocalyptic story set in the furthest reach...</td>\n",
       "      <td>120</td>\n",
       "      <td>Action|Adventure|Science Fiction|Thriller</td>\n",
       "      <td>Village Roadshow Pictures|Kennedy Miller Produ...</td>\n",
       "      <td>5/13/15</td>\n",
       "      <td>6185</td>\n",
       "      <td>7.1</td>\n",
       "      <td>2015</td>\n",
       "      <td>1.379999e+08</td>\n",
       "      <td>3.481613e+08</td>\n",
       "    </tr>\n",
       "    <tr>\n",
       "      <th>2</th>\n",
       "      <td>262500</td>\n",
       "      <td>tt2908446</td>\n",
       "      <td>13.112507</td>\n",
       "      <td>110000000</td>\n",
       "      <td>295238201</td>\n",
       "      <td>Insurgent</td>\n",
       "      <td>Shailene Woodley|Theo James|Kate Winslet|Ansel...</td>\n",
       "      <td>http://www.thedivergentseries.movie/#insurgent</td>\n",
       "      <td>Robert Schwentke</td>\n",
       "      <td>One Choice Can Destroy You</td>\n",
       "      <td>...</td>\n",
       "      <td>Beatrice Prior must confront her inner demons ...</td>\n",
       "      <td>119</td>\n",
       "      <td>Adventure|Science Fiction|Thriller</td>\n",
       "      <td>Summit Entertainment|Mandeville Films|Red Wago...</td>\n",
       "      <td>3/18/15</td>\n",
       "      <td>2480</td>\n",
       "      <td>6.3</td>\n",
       "      <td>2015</td>\n",
       "      <td>1.012000e+08</td>\n",
       "      <td>2.716190e+08</td>\n",
       "    </tr>\n",
       "    <tr>\n",
       "      <th>3</th>\n",
       "      <td>140607</td>\n",
       "      <td>tt2488496</td>\n",
       "      <td>11.173104</td>\n",
       "      <td>200000000</td>\n",
       "      <td>2068178225</td>\n",
       "      <td>Star Wars: The Force Awakens</td>\n",
       "      <td>Harrison Ford|Mark Hamill|Carrie Fisher|Adam D...</td>\n",
       "      <td>http://www.starwars.com/films/star-wars-episod...</td>\n",
       "      <td>J.J. Abrams</td>\n",
       "      <td>Every generation has a story.</td>\n",
       "      <td>...</td>\n",
       "      <td>Thirty years after defeating the Galactic Empi...</td>\n",
       "      <td>136</td>\n",
       "      <td>Action|Adventure|Science Fiction|Fantasy</td>\n",
       "      <td>Lucasfilm|Truenorth Productions|Bad Robot</td>\n",
       "      <td>12/15/15</td>\n",
       "      <td>5292</td>\n",
       "      <td>7.5</td>\n",
       "      <td>2015</td>\n",
       "      <td>1.839999e+08</td>\n",
       "      <td>1.902723e+09</td>\n",
       "    </tr>\n",
       "    <tr>\n",
       "      <th>4</th>\n",
       "      <td>168259</td>\n",
       "      <td>tt2820852</td>\n",
       "      <td>9.335014</td>\n",
       "      <td>190000000</td>\n",
       "      <td>1506249360</td>\n",
       "      <td>Furious 7</td>\n",
       "      <td>Vin Diesel|Paul Walker|Jason Statham|Michelle ...</td>\n",
       "      <td>http://www.furious7.com/</td>\n",
       "      <td>James Wan</td>\n",
       "      <td>Vengeance Hits Home</td>\n",
       "      <td>...</td>\n",
       "      <td>Deckard Shaw seeks revenge against Dominic Tor...</td>\n",
       "      <td>137</td>\n",
       "      <td>Action|Crime|Thriller</td>\n",
       "      <td>Universal Pictures|Original Film|Media Rights ...</td>\n",
       "      <td>4/1/15</td>\n",
       "      <td>2947</td>\n",
       "      <td>7.3</td>\n",
       "      <td>2015</td>\n",
       "      <td>1.747999e+08</td>\n",
       "      <td>1.385749e+09</td>\n",
       "    </tr>\n",
       "  </tbody>\n",
       "</table>\n",
       "<p>5 rows × 21 columns</p>\n",
       "</div>"
      ],
      "text/plain": [
       "       id    imdb_id  popularity     budget     revenue  \\\n",
       "0  135397  tt0369610   32.985763  150000000  1513528810   \n",
       "1   76341  tt1392190   28.419936  150000000   378436354   \n",
       "2  262500  tt2908446   13.112507  110000000   295238201   \n",
       "3  140607  tt2488496   11.173104  200000000  2068178225   \n",
       "4  168259  tt2820852    9.335014  190000000  1506249360   \n",
       "\n",
       "                 original_title  \\\n",
       "0                Jurassic World   \n",
       "1            Mad Max: Fury Road   \n",
       "2                     Insurgent   \n",
       "3  Star Wars: The Force Awakens   \n",
       "4                     Furious 7   \n",
       "\n",
       "                                                cast  \\\n",
       "0  Chris Pratt|Bryce Dallas Howard|Irrfan Khan|Vi...   \n",
       "1  Tom Hardy|Charlize Theron|Hugh Keays-Byrne|Nic...   \n",
       "2  Shailene Woodley|Theo James|Kate Winslet|Ansel...   \n",
       "3  Harrison Ford|Mark Hamill|Carrie Fisher|Adam D...   \n",
       "4  Vin Diesel|Paul Walker|Jason Statham|Michelle ...   \n",
       "\n",
       "                                            homepage          director  \\\n",
       "0                      http://www.jurassicworld.com/   Colin Trevorrow   \n",
       "1                        http://www.madmaxmovie.com/     George Miller   \n",
       "2     http://www.thedivergentseries.movie/#insurgent  Robert Schwentke   \n",
       "3  http://www.starwars.com/films/star-wars-episod...       J.J. Abrams   \n",
       "4                           http://www.furious7.com/         James Wan   \n",
       "\n",
       "                         tagline  ...  \\\n",
       "0              The park is open.  ...   \n",
       "1             What a Lovely Day.  ...   \n",
       "2     One Choice Can Destroy You  ...   \n",
       "3  Every generation has a story.  ...   \n",
       "4            Vengeance Hits Home  ...   \n",
       "\n",
       "                                            overview runtime  \\\n",
       "0  Twenty-two years after the events of Jurassic ...     124   \n",
       "1  An apocalyptic story set in the furthest reach...     120   \n",
       "2  Beatrice Prior must confront her inner demons ...     119   \n",
       "3  Thirty years after defeating the Galactic Empi...     136   \n",
       "4  Deckard Shaw seeks revenge against Dominic Tor...     137   \n",
       "\n",
       "                                      genres  \\\n",
       "0  Action|Adventure|Science Fiction|Thriller   \n",
       "1  Action|Adventure|Science Fiction|Thriller   \n",
       "2         Adventure|Science Fiction|Thriller   \n",
       "3   Action|Adventure|Science Fiction|Fantasy   \n",
       "4                      Action|Crime|Thriller   \n",
       "\n",
       "                                production_companies release_date vote_count  \\\n",
       "0  Universal Studios|Amblin Entertainment|Legenda...       6/9/15       5562   \n",
       "1  Village Roadshow Pictures|Kennedy Miller Produ...      5/13/15       6185   \n",
       "2  Summit Entertainment|Mandeville Films|Red Wago...      3/18/15       2480   \n",
       "3          Lucasfilm|Truenorth Productions|Bad Robot     12/15/15       5292   \n",
       "4  Universal Pictures|Original Film|Media Rights ...       4/1/15       2947   \n",
       "\n",
       "   vote_average  release_year    budget_adj   revenue_adj  \n",
       "0           6.5          2015  1.379999e+08  1.392446e+09  \n",
       "1           7.1          2015  1.379999e+08  3.481613e+08  \n",
       "2           6.3          2015  1.012000e+08  2.716190e+08  \n",
       "3           7.5          2015  1.839999e+08  1.902723e+09  \n",
       "4           7.3          2015  1.747999e+08  1.385749e+09  \n",
       "\n",
       "[5 rows x 21 columns]"
      ]
     },
     "execution_count": 2,
     "metadata": {},
     "output_type": "execute_result"
    }
   ],
   "source": [
    "# Load data and print out first 5 rows. \n",
    "movie_df = pd.read_csv('Database_TMDb_movie_data/tmdb-movies.csv')\n",
    "movie_df.head()"
   ]
  },
  {
   "cell_type": "markdown",
   "metadata": {},
   "source": [
    "A quick investigation of the dataset. This is to assess the quality and build intuition about the dataset.<br/> Identifying instances of missing or possibly errant data are important for cleaning.\n",
    "1. The number of samples and columns.\n",
    "2. Check for null values in some selected columns and not the entire datasets.\n",
    "3. Check for duplicates in the dataset.\n",
    "4. Inspect the data types in the dataset.\n",
    "\n",
    "The reason for checking null values in some selected columns and not the entire dataset is get as much data for analysis. The no null values in the selected columns are needed to answer our <a href=\"#questions\">questions</a>.\n",
    "\n",
    "The columns in the dataset that we are interested in, to check for null values in them are:<a id='imp'></a>\n",
    "> id, popularity, original_title,\n",
    "genres, production_companies, release_date,\n",
    "vote_count, vote_average, release_year,\n",
    "budget_adj, revenue_adj"
   ]
  },
  {
   "cell_type": "code",
   "execution_count": 3,
   "metadata": {
    "scrolled": true
   },
   "outputs": [
    {
     "name": "stdout",
     "output_type": "stream",
     "text": [
      "The number of samples in the movie dataset is 10866 \n",
      "and the number of columns is 21\n"
     ]
    }
   ],
   "source": [
    "# Print the number of samples and columns in the dataset\n",
    "print('The number of samples in the movie dataset is', movie_df.shape[0], \n",
    "     '\\nand the number of columns is', movie_df.shape[1])"
   ]
  },
  {
   "cell_type": "code",
   "execution_count": 4,
   "metadata": {},
   "outputs": [],
   "source": [
    "# Columns interested in for analysis\n",
    "imp_columns = ['id', 'popularity', 'original_title', 'genres', \n",
    "                     'production_companies', 'release_date', \n",
    "                     'vote_count', 'vote_average', 'release_year', \n",
    "                     'budget_adj', 'revenue_adj']"
   ]
  },
  {
   "cell_type": "code",
   "execution_count": 5,
   "metadata": {},
   "outputs": [],
   "source": [
    "# Function to check null values in the selected columns\n",
    "def check_null_values(data=movie_df, col=False):\n",
    "    '''\n",
    "    Function to check whether a dataset has a null values \n",
    "    and the number of null values if they exist.\n",
    "\n",
    "    Parameter: data - dataset to check\n",
    "               col  - selected columns to check null the values\n",
    "\n",
    "    '''\n",
    "    if col == False:\n",
    "        num = data.isnull().sum()\n",
    "        ans = data.isnull().sum().any()\n",
    "        if ans == True:\n",
    "            print('Yes, there are null values in the dataset\\n', num, 'null values')\n",
    "        else:\n",
    "            print('No, there are no null values in the dataset')\n",
    "    else:\n",
    "        num = data[col].isnull().sum()\n",
    "        ans = data[col].isnull().sum().any()\n",
    "        if ans == True:\n",
    "            print('Yes, there are null values in the dataset\\n', num, 'null values')\n",
    "        else:\n",
    "            print('No, there are no null values in selected columns in the dataset')"
   ]
  },
  {
   "cell_type": "code",
   "execution_count": 6,
   "metadata": {},
   "outputs": [
    {
     "name": "stdout",
     "output_type": "stream",
     "text": [
      "Yes, there are null values in the dataset\n",
      " id                         0\n",
      "popularity                 0\n",
      "original_title             0\n",
      "genres                    23\n",
      "production_companies    1030\n",
      "release_date               0\n",
      "vote_count                 0\n",
      "vote_average               0\n",
      "release_year               0\n",
      "budget_adj                 0\n",
      "revenue_adj                0\n",
      "dtype: int64 null values\n"
     ]
    }
   ],
   "source": [
    "# Are there any null values in some selected columns in the dataset\n",
    "check_null_values(col=imp_columns)"
   ]
  },
  {
   "cell_type": "code",
   "execution_count": 7,
   "metadata": {},
   "outputs": [
    {
     "name": "stdout",
     "output_type": "stream",
     "text": [
      "The number of duplicate rows in the dataset is 1\n"
     ]
    }
   ],
   "source": [
    "# Check for duplicates in the dataset.\n",
    "print('The number of duplicate rows in the dataset is', movie_df.duplicated().sum())"
   ]
  },
  {
   "cell_type": "code",
   "execution_count": 8,
   "metadata": {},
   "outputs": [
    {
     "data": {
      "text/plain": [
       "id                        int64\n",
       "imdb_id                  object\n",
       "popularity              float64\n",
       "budget                    int64\n",
       "revenue                   int64\n",
       "original_title           object\n",
       "cast                     object\n",
       "homepage                 object\n",
       "director                 object\n",
       "tagline                  object\n",
       "keywords                 object\n",
       "overview                 object\n",
       "runtime                   int64\n",
       "genres                   object\n",
       "production_companies     object\n",
       "release_date             object\n",
       "vote_count                int64\n",
       "vote_average            float64\n",
       "release_year              int64\n",
       "budget_adj              float64\n",
       "revenue_adj             float64\n",
       "dtype: object"
      ]
     },
     "execution_count": 8,
     "metadata": {},
     "output_type": "execute_result"
    }
   ],
   "source": [
    "# Inspect data types\n",
    "movie_df.dtypes"
   ]
  },
  {
   "cell_type": "markdown",
   "metadata": {},
   "source": [
    "\n",
    "### Data Cleaning\n",
    "> **Drop  Rows with missing values:**\n",
    "Missing values in columns provides no use in the analysis.<br/> \n",
    "We will drop or remove all rows with missing values in the <a href=\"#imp\">selected columns</a>.\n",
    "\n",
    "> **Drop  duplicate rows:**\n",
    "We found duplicate row(s) in the dataset that needs to be removed.<br/> \n",
    "We will remove duplicate rows in order not to distort the analysis.\n",
    "\n",
    "> **Change date type:**\n",
    "Change release_year from integer datatype to object/string datatype.\n",
    "\n",
    "> **Drop Extraneous Columns:** \n",
    "Remove some columns not needed in our analysis"
   ]
  },
  {
   "cell_type": "code",
   "execution_count": 9,
   "metadata": {},
   "outputs": [
    {
     "name": "stdout",
     "output_type": "stream",
     "text": [
      "No, there are no null values in selected columns in the dataset\n"
     ]
    }
   ],
   "source": [
    "# remove null values\n",
    "movie_df.dropna(subset=imp_columns, inplace=True)\n",
    "check_null_values(col=imp_columns)"
   ]
  },
  {
   "cell_type": "code",
   "execution_count": 10,
   "metadata": {},
   "outputs": [
    {
     "name": "stdout",
     "output_type": "stream",
     "text": [
      "The number of duplicate rows in the dataset now is 0\n"
     ]
    }
   ],
   "source": [
    "# remove duplicates\n",
    "movie_df.drop_duplicates(inplace=True)\n",
    "print('The number of duplicate rows in the dataset now is', movie_df.duplicated().sum())"
   ]
  },
  {
   "cell_type": "code",
   "execution_count": 11,
   "metadata": {},
   "outputs": [],
   "source": [
    "# change datatype\n",
    "movie_df[\"release_year\"] = (movie_df[\"release_year\"]).astype(str)"
   ]
  },
  {
   "cell_type": "code",
   "execution_count": 12,
   "metadata": {},
   "outputs": [],
   "source": [
    "# drop columns from the dataset\n",
    "movie_df.drop(['homepage', 'director', 'tagline', 'keywords', 'overview'], axis=1, inplace=True)"
   ]
  },
  {
   "cell_type": "code",
   "execution_count": 13,
   "metadata": {},
   "outputs": [],
   "source": [
    "# add a column, 'profit', to check the profit of each movie.\n",
    "movie_df['profit'] = movie_df['revenue_adj'] - movie_df['budget_adj']"
   ]
  },
  {
   "cell_type": "code",
   "execution_count": 14,
   "metadata": {},
   "outputs": [
    {
     "name": "stdout",
     "output_type": "stream",
     "text": [
      "After cleaning, the number of samples is 9826 \n",
      "and the number of columns is 17\n"
     ]
    }
   ],
   "source": [
    "# The new number of samples and columns after cleaning\n",
    "print('After cleaning, the number of samples is', movie_df.shape[0], \n",
    "     '\\nand the number of columns is', movie_df.shape[1])"
   ]
  },
  {
   "cell_type": "markdown",
   "metadata": {},
   "source": [
    "<a id='eda'></a>\n",
    "## Exploratory Data Analysis"
   ]
  },
  {
   "cell_type": "code",
   "execution_count": 15,
   "metadata": {},
   "outputs": [
    {
     "data": {
      "text/html": [
       "<div>\n",
       "<style scoped>\n",
       "    .dataframe tbody tr th:only-of-type {\n",
       "        vertical-align: middle;\n",
       "    }\n",
       "\n",
       "    .dataframe tbody tr th {\n",
       "        vertical-align: top;\n",
       "    }\n",
       "\n",
       "    .dataframe thead th {\n",
       "        text-align: right;\n",
       "    }\n",
       "</style>\n",
       "<table border=\"1\" class=\"dataframe\">\n",
       "  <thead>\n",
       "    <tr style=\"text-align: right;\">\n",
       "      <th></th>\n",
       "      <th>id</th>\n",
       "      <th>popularity</th>\n",
       "      <th>budget</th>\n",
       "      <th>revenue</th>\n",
       "      <th>runtime</th>\n",
       "      <th>vote_count</th>\n",
       "      <th>vote_average</th>\n",
       "      <th>budget_adj</th>\n",
       "      <th>revenue_adj</th>\n",
       "      <th>profit</th>\n",
       "    </tr>\n",
       "  </thead>\n",
       "  <tbody>\n",
       "    <tr>\n",
       "      <th>count</th>\n",
       "      <td>9826.000000</td>\n",
       "      <td>9826.000000</td>\n",
       "      <td>9.826000e+03</td>\n",
       "      <td>9.826000e+03</td>\n",
       "      <td>9826.000000</td>\n",
       "      <td>9826.000000</td>\n",
       "      <td>9826.000000</td>\n",
       "      <td>9.826000e+03</td>\n",
       "      <td>9.826000e+03</td>\n",
       "      <td>9.826000e+03</td>\n",
       "    </tr>\n",
       "    <tr>\n",
       "      <th>mean</th>\n",
       "      <td>63520.383269</td>\n",
       "      <td>0.692013</td>\n",
       "      <td>1.609320e+07</td>\n",
       "      <td>4.398925e+07</td>\n",
       "      <td>102.674944</td>\n",
       "      <td>238.178201</td>\n",
       "      <td>5.967973</td>\n",
       "      <td>1.931209e+07</td>\n",
       "      <td>5.674069e+07</td>\n",
       "      <td>3.742860e+07</td>\n",
       "    </tr>\n",
       "    <tr>\n",
       "      <th>std</th>\n",
       "      <td>91029.832565</td>\n",
       "      <td>1.034783</td>\n",
       "      <td>3.214331e+07</td>\n",
       "      <td>1.222949e+08</td>\n",
       "      <td>28.202856</td>\n",
       "      <td>601.548975</td>\n",
       "      <td>0.914518</td>\n",
       "      <td>3.559582e+07</td>\n",
       "      <td>1.510917e+08</td>\n",
       "      <td>1.311439e+08</td>\n",
       "    </tr>\n",
       "    <tr>\n",
       "      <th>min</th>\n",
       "      <td>5.000000</td>\n",
       "      <td>0.000188</td>\n",
       "      <td>0.000000e+00</td>\n",
       "      <td>0.000000e+00</td>\n",
       "      <td>0.000000</td>\n",
       "      <td>10.000000</td>\n",
       "      <td>1.500000</td>\n",
       "      <td>0.000000e+00</td>\n",
       "      <td>0.000000e+00</td>\n",
       "      <td>-4.139124e+08</td>\n",
       "    </tr>\n",
       "    <tr>\n",
       "      <th>25%</th>\n",
       "      <td>10265.000000</td>\n",
       "      <td>0.230920</td>\n",
       "      <td>0.000000e+00</td>\n",
       "      <td>0.000000e+00</td>\n",
       "      <td>90.000000</td>\n",
       "      <td>18.000000</td>\n",
       "      <td>5.400000</td>\n",
       "      <td>0.000000e+00</td>\n",
       "      <td>0.000000e+00</td>\n",
       "      <td>0.000000e+00</td>\n",
       "    </tr>\n",
       "    <tr>\n",
       "      <th>50%</th>\n",
       "      <td>18777.500000</td>\n",
       "      <td>0.417270</td>\n",
       "      <td>1.250000e+05</td>\n",
       "      <td>0.000000e+00</td>\n",
       "      <td>100.000000</td>\n",
       "      <td>45.000000</td>\n",
       "      <td>6.000000</td>\n",
       "      <td>1.962531e+05</td>\n",
       "      <td>0.000000e+00</td>\n",
       "      <td>0.000000e+00</td>\n",
       "    </tr>\n",
       "    <tr>\n",
       "      <th>75%</th>\n",
       "      <td>70818.500000</td>\n",
       "      <td>0.773717</td>\n",
       "      <td>1.900000e+07</td>\n",
       "      <td>3.052607e+07</td>\n",
       "      <td>112.000000</td>\n",
       "      <td>172.000000</td>\n",
       "      <td>6.600000</td>\n",
       "      <td>2.432644e+07</td>\n",
       "      <td>4.248459e+07</td>\n",
       "      <td>1.974955e+07</td>\n",
       "    </tr>\n",
       "    <tr>\n",
       "      <th>max</th>\n",
       "      <td>417859.000000</td>\n",
       "      <td>32.985763</td>\n",
       "      <td>4.250000e+08</td>\n",
       "      <td>2.781506e+09</td>\n",
       "      <td>877.000000</td>\n",
       "      <td>9767.000000</td>\n",
       "      <td>8.700000</td>\n",
       "      <td>4.250000e+08</td>\n",
       "      <td>2.827124e+09</td>\n",
       "      <td>2.750137e+09</td>\n",
       "    </tr>\n",
       "  </tbody>\n",
       "</table>\n",
       "</div>"
      ],
      "text/plain": [
       "                  id   popularity        budget       revenue      runtime  \\\n",
       "count    9826.000000  9826.000000  9.826000e+03  9.826000e+03  9826.000000   \n",
       "mean    63520.383269     0.692013  1.609320e+07  4.398925e+07   102.674944   \n",
       "std     91029.832565     1.034783  3.214331e+07  1.222949e+08    28.202856   \n",
       "min         5.000000     0.000188  0.000000e+00  0.000000e+00     0.000000   \n",
       "25%     10265.000000     0.230920  0.000000e+00  0.000000e+00    90.000000   \n",
       "50%     18777.500000     0.417270  1.250000e+05  0.000000e+00   100.000000   \n",
       "75%     70818.500000     0.773717  1.900000e+07  3.052607e+07   112.000000   \n",
       "max    417859.000000    32.985763  4.250000e+08  2.781506e+09   877.000000   \n",
       "\n",
       "        vote_count  vote_average    budget_adj   revenue_adj        profit  \n",
       "count  9826.000000   9826.000000  9.826000e+03  9.826000e+03  9.826000e+03  \n",
       "mean    238.178201      5.967973  1.931209e+07  5.674069e+07  3.742860e+07  \n",
       "std     601.548975      0.914518  3.559582e+07  1.510917e+08  1.311439e+08  \n",
       "min      10.000000      1.500000  0.000000e+00  0.000000e+00 -4.139124e+08  \n",
       "25%      18.000000      5.400000  0.000000e+00  0.000000e+00  0.000000e+00  \n",
       "50%      45.000000      6.000000  1.962531e+05  0.000000e+00  0.000000e+00  \n",
       "75%     172.000000      6.600000  2.432644e+07  4.248459e+07  1.974955e+07  \n",
       "max    9767.000000      8.700000  4.250000e+08  2.827124e+09  2.750137e+09  "
      ]
     },
     "execution_count": 15,
     "metadata": {},
     "output_type": "execute_result"
    }
   ],
   "source": [
    "movie_df.describe()"
   ]
  },
  {
   "cell_type": "markdown",
   "metadata": {},
   "source": [
    "### Summary statistics\n",
    "Analysis of 9,826 movies.\n",
    "> **Popularity**<br/>\n",
    "The minimum popularity a movie had was 0 whiles the maximum popularity was 33.<br/>\n",
    "The average popularity in the dataset was 0.7.\n",
    "\n",
    "> **Runtime**<br/>\n",
    "Some movies had 0 minute runtime in which all their budget and revenue was also 0 except one sample.<br/>\n",
    "A movie had a maximum runtime of 877 minutes and the average runtime was 102 minutes.\n",
    "\n",
    "> **Vote count**<br/>\n",
    "A number of movies had a low vote count of 10 and some a high vote count of 9767.<br/>\n",
    "The average vote count was 238.\n",
    "\n",
    "> **Budget & Revenue**<br/>\n",
    "The maximum budget and revenue of movies were 425,000,000 USD and 2,827,123,750 USD respectively.<br/>\n",
    "The average for both was 19,312,089 USD and 56,740,687 USD\n",
    "\n",
    "> **Profit**<br/>\n",
    "A movie made a huge loss of 413,912,431 USD and another movie made a huge profit of 2,750,136,650 USD"
   ]
  },
  {
   "cell_type": "markdown",
   "metadata": {},
   "source": [
    "<a id='firstque'></a>\n",
    "### Research Question 1 <br/>Which genres are most popular from year to year?"
   ]
  },
  {
   "cell_type": "code",
   "execution_count": 16,
   "metadata": {},
   "outputs": [
    {
     "name": "stdout",
     "output_type": "stream",
     "text": [
      "After the split, we had 24757 samples.\n"
     ]
    }
   ],
   "source": [
    "# Split genres separated by \"|\" into rows\n",
    "genre_df = movie_df.assign(genres=movie_df.genres.str.split(\"|\")).explode('genres')\n",
    "print('After the split, we had', genre_df.shape[0], 'samples.')"
   ]
  },
  {
   "cell_type": "code",
   "execution_count": 17,
   "metadata": {},
   "outputs": [],
   "source": [
    "# A group by 'release_year' and 'genres' and count 'genres' for each section\n",
    "#       name the count column\n",
    "\n",
    "a = genre_df.groupby(['release_year', 'genres'])['genres']\n",
    "a = pd.DataFrame(a.count().reset_index(name='count'))"
   ]
  },
  {
   "cell_type": "code",
   "execution_count": 18,
   "metadata": {
    "scrolled": false
   },
   "outputs": [
    {
     "data": {
      "text/html": [
       "<div>\n",
       "<style scoped>\n",
       "    .dataframe tbody tr th:only-of-type {\n",
       "        vertical-align: middle;\n",
       "    }\n",
       "\n",
       "    .dataframe tbody tr th {\n",
       "        vertical-align: top;\n",
       "    }\n",
       "\n",
       "    .dataframe thead th {\n",
       "        text-align: right;\n",
       "    }\n",
       "</style>\n",
       "<table border=\"1\" class=\"dataframe\">\n",
       "  <thead>\n",
       "    <tr style=\"text-align: right;\">\n",
       "      <th></th>\n",
       "      <th>release_year</th>\n",
       "      <th>genres</th>\n",
       "      <th>count</th>\n",
       "    </tr>\n",
       "  </thead>\n",
       "  <tbody>\n",
       "    <tr>\n",
       "      <th>4</th>\n",
       "      <td>1960</td>\n",
       "      <td>Drama</td>\n",
       "      <td>13</td>\n",
       "    </tr>\n",
       "    <tr>\n",
       "      <th>21</th>\n",
       "      <td>1961</td>\n",
       "      <td>Drama</td>\n",
       "      <td>16</td>\n",
       "    </tr>\n",
       "    <tr>\n",
       "      <th>37</th>\n",
       "      <td>1962</td>\n",
       "      <td>Drama</td>\n",
       "      <td>19</td>\n",
       "    </tr>\n",
       "    <tr>\n",
       "      <th>53</th>\n",
       "      <td>1963</td>\n",
       "      <td>Comedy</td>\n",
       "      <td>13</td>\n",
       "    </tr>\n",
       "    <tr>\n",
       "      <th>55</th>\n",
       "      <td>1963</td>\n",
       "      <td>Drama</td>\n",
       "      <td>13</td>\n",
       "    </tr>\n",
       "    <tr>\n",
       "      <th>72</th>\n",
       "      <td>1964</td>\n",
       "      <td>Drama</td>\n",
       "      <td>20</td>\n",
       "    </tr>\n",
       "    <tr>\n",
       "      <th>90</th>\n",
       "      <td>1965</td>\n",
       "      <td>Drama</td>\n",
       "      <td>19</td>\n",
       "    </tr>\n",
       "    <tr>\n",
       "      <th>105</th>\n",
       "      <td>1966</td>\n",
       "      <td>Comedy</td>\n",
       "      <td>15</td>\n",
       "    </tr>\n",
       "    <tr>\n",
       "      <th>108</th>\n",
       "      <td>1966</td>\n",
       "      <td>Drama</td>\n",
       "      <td>15</td>\n",
       "    </tr>\n",
       "    <tr>\n",
       "      <th>123</th>\n",
       "      <td>1967</td>\n",
       "      <td>Comedy</td>\n",
       "      <td>16</td>\n",
       "    </tr>\n",
       "    <tr>\n",
       "      <th>126</th>\n",
       "      <td>1967</td>\n",
       "      <td>Drama</td>\n",
       "      <td>16</td>\n",
       "    </tr>\n",
       "    <tr>\n",
       "      <th>142</th>\n",
       "      <td>1968</td>\n",
       "      <td>Drama</td>\n",
       "      <td>19</td>\n",
       "    </tr>\n",
       "    <tr>\n",
       "      <th>159</th>\n",
       "      <td>1969</td>\n",
       "      <td>Drama</td>\n",
       "      <td>13</td>\n",
       "    </tr>\n",
       "    <tr>\n",
       "      <th>178</th>\n",
       "      <td>1970</td>\n",
       "      <td>Drama</td>\n",
       "      <td>19</td>\n",
       "    </tr>\n",
       "    <tr>\n",
       "      <th>197</th>\n",
       "      <td>1971</td>\n",
       "      <td>Drama</td>\n",
       "      <td>30</td>\n",
       "    </tr>\n",
       "    <tr>\n",
       "      <th>215</th>\n",
       "      <td>1972</td>\n",
       "      <td>Drama</td>\n",
       "      <td>16</td>\n",
       "    </tr>\n",
       "    <tr>\n",
       "      <th>231</th>\n",
       "      <td>1973</td>\n",
       "      <td>Drama</td>\n",
       "      <td>31</td>\n",
       "    </tr>\n",
       "    <tr>\n",
       "      <th>249</th>\n",
       "      <td>1974</td>\n",
       "      <td>Drama</td>\n",
       "      <td>21</td>\n",
       "    </tr>\n",
       "    <tr>\n",
       "      <th>268</th>\n",
       "      <td>1975</td>\n",
       "      <td>Drama</td>\n",
       "      <td>17</td>\n",
       "    </tr>\n",
       "    <tr>\n",
       "      <th>285</th>\n",
       "      <td>1976</td>\n",
       "      <td>Drama</td>\n",
       "      <td>22</td>\n",
       "    </tr>\n",
       "    <tr>\n",
       "      <th>305</th>\n",
       "      <td>1977</td>\n",
       "      <td>Drama</td>\n",
       "      <td>23</td>\n",
       "    </tr>\n",
       "    <tr>\n",
       "      <th>323</th>\n",
       "      <td>1978</td>\n",
       "      <td>Drama</td>\n",
       "      <td>28</td>\n",
       "    </tr>\n",
       "    <tr>\n",
       "      <th>342</th>\n",
       "      <td>1979</td>\n",
       "      <td>Drama</td>\n",
       "      <td>30</td>\n",
       "    </tr>\n",
       "    <tr>\n",
       "      <th>357</th>\n",
       "      <td>1980</td>\n",
       "      <td>Drama</td>\n",
       "      <td>32</td>\n",
       "    </tr>\n",
       "    <tr>\n",
       "      <th>377</th>\n",
       "      <td>1981</td>\n",
       "      <td>Drama</td>\n",
       "      <td>32</td>\n",
       "    </tr>\n",
       "    <tr>\n",
       "      <th>395</th>\n",
       "      <td>1982</td>\n",
       "      <td>Drama</td>\n",
       "      <td>33</td>\n",
       "    </tr>\n",
       "    <tr>\n",
       "      <th>414</th>\n",
       "      <td>1983</td>\n",
       "      <td>Drama</td>\n",
       "      <td>34</td>\n",
       "    </tr>\n",
       "    <tr>\n",
       "      <th>431</th>\n",
       "      <td>1984</td>\n",
       "      <td>Comedy</td>\n",
       "      <td>37</td>\n",
       "    </tr>\n",
       "    <tr>\n",
       "      <th>434</th>\n",
       "      <td>1984</td>\n",
       "      <td>Drama</td>\n",
       "      <td>37</td>\n",
       "    </tr>\n",
       "    <tr>\n",
       "      <th>449</th>\n",
       "      <td>1985</td>\n",
       "      <td>Comedy</td>\n",
       "      <td>50</td>\n",
       "    </tr>\n",
       "    <tr>\n",
       "      <th>468</th>\n",
       "      <td>1986</td>\n",
       "      <td>Drama</td>\n",
       "      <td>48</td>\n",
       "    </tr>\n",
       "    <tr>\n",
       "      <th>483</th>\n",
       "      <td>1987</td>\n",
       "      <td>Comedy</td>\n",
       "      <td>53</td>\n",
       "    </tr>\n",
       "    <tr>\n",
       "      <th>501</th>\n",
       "      <td>1988</td>\n",
       "      <td>Comedy</td>\n",
       "      <td>65</td>\n",
       "    </tr>\n",
       "    <tr>\n",
       "      <th>520</th>\n",
       "      <td>1989</td>\n",
       "      <td>Comedy</td>\n",
       "      <td>59</td>\n",
       "    </tr>\n",
       "    <tr>\n",
       "      <th>541</th>\n",
       "      <td>1990</td>\n",
       "      <td>Drama</td>\n",
       "      <td>58</td>\n",
       "    </tr>\n",
       "    <tr>\n",
       "      <th>561</th>\n",
       "      <td>1991</td>\n",
       "      <td>Drama</td>\n",
       "      <td>62</td>\n",
       "    </tr>\n",
       "    <tr>\n",
       "      <th>580</th>\n",
       "      <td>1992</td>\n",
       "      <td>Drama</td>\n",
       "      <td>63</td>\n",
       "    </tr>\n",
       "    <tr>\n",
       "      <th>599</th>\n",
       "      <td>1993</td>\n",
       "      <td>Drama</td>\n",
       "      <td>89</td>\n",
       "    </tr>\n",
       "    <tr>\n",
       "      <th>615</th>\n",
       "      <td>1994</td>\n",
       "      <td>Comedy</td>\n",
       "      <td>83</td>\n",
       "    </tr>\n",
       "    <tr>\n",
       "      <th>638</th>\n",
       "      <td>1995</td>\n",
       "      <td>Drama</td>\n",
       "      <td>92</td>\n",
       "    </tr>\n",
       "    <tr>\n",
       "      <th>657</th>\n",
       "      <td>1996</td>\n",
       "      <td>Drama</td>\n",
       "      <td>100</td>\n",
       "    </tr>\n",
       "    <tr>\n",
       "      <th>676</th>\n",
       "      <td>1997</td>\n",
       "      <td>Drama</td>\n",
       "      <td>78</td>\n",
       "    </tr>\n",
       "    <tr>\n",
       "      <th>695</th>\n",
       "      <td>1998</td>\n",
       "      <td>Drama</td>\n",
       "      <td>97</td>\n",
       "    </tr>\n",
       "    <tr>\n",
       "      <th>715</th>\n",
       "      <td>1999</td>\n",
       "      <td>Drama</td>\n",
       "      <td>109</td>\n",
       "    </tr>\n",
       "    <tr>\n",
       "      <th>735</th>\n",
       "      <td>2000</td>\n",
       "      <td>Drama</td>\n",
       "      <td>89</td>\n",
       "    </tr>\n",
       "    <tr>\n",
       "      <th>752</th>\n",
       "      <td>2001</td>\n",
       "      <td>Comedy</td>\n",
       "      <td>89</td>\n",
       "    </tr>\n",
       "    <tr>\n",
       "      <th>775</th>\n",
       "      <td>2002</td>\n",
       "      <td>Drama</td>\n",
       "      <td>118</td>\n",
       "    </tr>\n",
       "    <tr>\n",
       "      <th>792</th>\n",
       "      <td>2003</td>\n",
       "      <td>Comedy</td>\n",
       "      <td>102</td>\n",
       "    </tr>\n",
       "    <tr>\n",
       "      <th>815</th>\n",
       "      <td>2004</td>\n",
       "      <td>Drama</td>\n",
       "      <td>116</td>\n",
       "    </tr>\n",
       "    <tr>\n",
       "      <th>835</th>\n",
       "      <td>2005</td>\n",
       "      <td>Drama</td>\n",
       "      <td>158</td>\n",
       "    </tr>\n",
       "    <tr>\n",
       "      <th>855</th>\n",
       "      <td>2006</td>\n",
       "      <td>Drama</td>\n",
       "      <td>178</td>\n",
       "    </tr>\n",
       "    <tr>\n",
       "      <th>875</th>\n",
       "      <td>2007</td>\n",
       "      <td>Drama</td>\n",
       "      <td>180</td>\n",
       "    </tr>\n",
       "    <tr>\n",
       "      <th>895</th>\n",
       "      <td>2008</td>\n",
       "      <td>Drama</td>\n",
       "      <td>212</td>\n",
       "    </tr>\n",
       "    <tr>\n",
       "      <th>915</th>\n",
       "      <td>2009</td>\n",
       "      <td>Drama</td>\n",
       "      <td>201</td>\n",
       "    </tr>\n",
       "    <tr>\n",
       "      <th>934</th>\n",
       "      <td>2010</td>\n",
       "      <td>Drama</td>\n",
       "      <td>189</td>\n",
       "    </tr>\n",
       "    <tr>\n",
       "      <th>954</th>\n",
       "      <td>2011</td>\n",
       "      <td>Drama</td>\n",
       "      <td>186</td>\n",
       "    </tr>\n",
       "    <tr>\n",
       "      <th>974</th>\n",
       "      <td>2012</td>\n",
       "      <td>Drama</td>\n",
       "      <td>203</td>\n",
       "    </tr>\n",
       "    <tr>\n",
       "      <th>994</th>\n",
       "      <td>2013</td>\n",
       "      <td>Drama</td>\n",
       "      <td>228</td>\n",
       "    </tr>\n",
       "    <tr>\n",
       "      <th>1013</th>\n",
       "      <td>2014</td>\n",
       "      <td>Drama</td>\n",
       "      <td>270</td>\n",
       "    </tr>\n",
       "    <tr>\n",
       "      <th>1032</th>\n",
       "      <td>2015</td>\n",
       "      <td>Drama</td>\n",
       "      <td>233</td>\n",
       "    </tr>\n",
       "  </tbody>\n",
       "</table>\n",
       "</div>"
      ],
      "text/plain": [
       "     release_year  genres  count\n",
       "4            1960   Drama     13\n",
       "21           1961   Drama     16\n",
       "37           1962   Drama     19\n",
       "53           1963  Comedy     13\n",
       "55           1963   Drama     13\n",
       "72           1964   Drama     20\n",
       "90           1965   Drama     19\n",
       "105          1966  Comedy     15\n",
       "108          1966   Drama     15\n",
       "123          1967  Comedy     16\n",
       "126          1967   Drama     16\n",
       "142          1968   Drama     19\n",
       "159          1969   Drama     13\n",
       "178          1970   Drama     19\n",
       "197          1971   Drama     30\n",
       "215          1972   Drama     16\n",
       "231          1973   Drama     31\n",
       "249          1974   Drama     21\n",
       "268          1975   Drama     17\n",
       "285          1976   Drama     22\n",
       "305          1977   Drama     23\n",
       "323          1978   Drama     28\n",
       "342          1979   Drama     30\n",
       "357          1980   Drama     32\n",
       "377          1981   Drama     32\n",
       "395          1982   Drama     33\n",
       "414          1983   Drama     34\n",
       "431          1984  Comedy     37\n",
       "434          1984   Drama     37\n",
       "449          1985  Comedy     50\n",
       "468          1986   Drama     48\n",
       "483          1987  Comedy     53\n",
       "501          1988  Comedy     65\n",
       "520          1989  Comedy     59\n",
       "541          1990   Drama     58\n",
       "561          1991   Drama     62\n",
       "580          1992   Drama     63\n",
       "599          1993   Drama     89\n",
       "615          1994  Comedy     83\n",
       "638          1995   Drama     92\n",
       "657          1996   Drama    100\n",
       "676          1997   Drama     78\n",
       "695          1998   Drama     97\n",
       "715          1999   Drama    109\n",
       "735          2000   Drama     89\n",
       "752          2001  Comedy     89\n",
       "775          2002   Drama    118\n",
       "792          2003  Comedy    102\n",
       "815          2004   Drama    116\n",
       "835          2005   Drama    158\n",
       "855          2006   Drama    178\n",
       "875          2007   Drama    180\n",
       "895          2008   Drama    212\n",
       "915          2009   Drama    201\n",
       "934          2010   Drama    189\n",
       "954          2011   Drama    186\n",
       "974          2012   Drama    203\n",
       "994          2013   Drama    228\n",
       "1013         2014   Drama    270\n",
       "1032         2015   Drama    233"
      ]
     },
     "execution_count": 18,
     "metadata": {},
     "output_type": "execute_result"
    }
   ],
   "source": [
    "# popular genre from year to year\n",
    "idx = a.groupby(['release_year'])['count'].transform(max) == a['count']\n",
    "a[idx]"
   ]
  },
  {
   "cell_type": "markdown",
   "metadata": {},
   "source": [
    ">The genre _Drama_ was the most popular in forty-nine (49) years between 1960 to 2015 followed by _Comedy_ genre which was most popular in eleven (11) years."
   ]
  },
  {
   "cell_type": "code",
   "execution_count": 19,
   "metadata": {},
   "outputs": [],
   "source": [
    "# Function to plot popular genre\n",
    "def plot_genre_year(yr):\n",
    "    '''\n",
    "    Function to plot the movie genres in a \n",
    "    particular year\n",
    "    \n",
    "    Parameter: yr - year to plot\n",
    "    \n",
    "    return: a bar chart\n",
    "    '''\n",
    "    # have yr as an integer and yr_str as a string\n",
    "    if type(yr) != str:\n",
    "        yr_str = str(yr)\n",
    "    else:\n",
    "        yr_str = yr\n",
    "        yr = int(yr)       \n",
    "    \n",
    "    # extract the release_year (yr) into a dataframe\n",
    "    year_ = genre_df[(genre_df['release_year'] >= yr_str) & (genre_df['release_year'] <= yr_str)]\n",
    "    \n",
    "    #plot\n",
    "    year_.groupby(['genres'])['genres'].count().plot(kind='barh');\n",
    "    plt.title(\"Popular Genre in the Year {}\".format(yr))\n",
    "    plt.xlabel(\"Popularity\")\n",
    "    plt.ylabel(\"Genre\");"
   ]
  },
  {
   "cell_type": "code",
   "execution_count": 20,
   "metadata": {},
   "outputs": [
    {
     "data": {
      "image/png": "[encoded data removed]",
      "text/plain": [
       "<Figure size 432x288 with 1 Axes>"
      ]
     },
     "metadata": {
      "needs_background": "light"
     },
     "output_type": "display_data"
    }
   ],
   "source": [
    "# enter a year to know which genre was popular in that year\n",
    "plot_genre_year(2010)"
   ]
  },
  {
   "cell_type": "markdown",
   "metadata": {},
   "source": [
    "<a id='secondque'></a>\n",
    "### Research Question 2<br/>What kinds of properties are associated with movies that have high revenues?\n",
    "\n",
    "> Revenue_adj would be compared to three properties to see how positively they influence revenues.\n",
    "\n",
    "> We would also see how actors/actresses and genres affect revenue."
   ]
  },
  {
   "cell_type": "code",
   "execution_count": 21,
   "metadata": {},
   "outputs": [],
   "source": [
    "def revenue_versus(y, df=movie_df, x='revenue_adj'):\n",
    "    '''\n",
    "    Function to plot a scatter plot.\n",
    "    \n",
    "    Parameters:  df - dataset in which your data is from, to plot.\n",
    "                       default - movie_df dataset\n",
    "                  x(str) - a column in the dataset.\n",
    "                       default - revenue_adj column\n",
    "                  y(str) - a second column in the dataset\n",
    "    '''\n",
    "    x_title = x.capitalize()\n",
    "    y_title = y.capitalize()\n",
    "    plt.scatter(data = df, x = 'revenue_adj', y = y);\n",
    "    plt.title('{} versus {}'.format(x_title, y_title));\n",
    "    plt.xlabel(x);\n",
    "    plt.ylabel(y);"
   ]
  },
  {
   "cell_type": "code",
   "execution_count": 22,
   "metadata": {},
   "outputs": [
    {
     "data": {
      "image/png": "[encoded data removed]",
      "text/plain": [
       "<Figure size 432x288 with 1 Axes>"
      ]
     },
     "metadata": {
      "needs_background": "light"
     },
     "output_type": "display_data"
    }
   ],
   "source": [
    "# scatterplot of revenue vs popularity\n",
    "revenue_versus('popularity')"
   ]
  },
  {
   "cell_type": "code",
   "execution_count": 23,
   "metadata": {},
   "outputs": [
    {
     "data": {
      "image/png": "[encoded data removed]",
      "text/plain": [
       "<Figure size 432x288 with 1 Axes>"
      ]
     },
     "metadata": {
      "needs_background": "light"
     },
     "output_type": "display_data"
    }
   ],
   "source": [
    "# scatterplot of revenue vs budget\n",
    "revenue_versus('budget_adj')"
   ]
  },
  {
   "cell_type": "code",
   "execution_count": 24,
   "metadata": {},
   "outputs": [
    {
     "data": {
      "image/png": "[encoded data removed]",
      "text/plain": [
       "<Figure size 432x288 with 1 Axes>"
      ]
     },
     "metadata": {
      "needs_background": "light"
     },
     "output_type": "display_data"
    }
   ],
   "source": [
    "# scatterplot of revenue vs vote count\n",
    "revenue_versus('vote_count')"
   ]
  },
  {
   "cell_type": "code",
   "execution_count": 25,
   "metadata": {},
   "outputs": [
    {
     "name": "stdout",
     "output_type": "stream",
     "text": [
      "The correlation between:\n",
      "revenue and budget is 0.6411992868221559\n",
      "revenue and popularity is 0.6067888175267188\n",
      "revenue and vote count is 0.7042457939342677\n"
     ]
    }
   ],
   "source": [
    "print('The correlation between:')\n",
    "print('revenue and budget is', movie_df['revenue_adj'].corr(movie_df['budget_adj']))\n",
    "print('revenue and popularity is', movie_df['revenue_adj'].corr(movie_df['popularity']))\n",
    "print('revenue and vote count is', movie_df['revenue_adj'].corr(movie_df['vote_count']))"
   ]
  },
  {
   "cell_type": "markdown",
   "metadata": {},
   "source": [
    "> The three properties, budget, popularity and vote count all have positive correlation with revenue. But it should be noted that this does not mean any of the three properties causes high revenues."
   ]
  },
  {
   "cell_type": "markdown",
   "metadata": {},
   "source": [
    "In the next three code cells, we would look at how the cast and genre affect revenue.<br/>\n",
    "\n",
    "First chart: A bar chart of the cast and the mean revenue (revenue_adj) of all the movies they have acted in.<br/>\n",
    "Second chart: A bar chart of genres and the mean revenue generated."
   ]
  },
  {
   "cell_type": "code",
   "execution_count": 26,
   "metadata": {},
   "outputs": [],
   "source": [
    "def CastGenre_revenue(prop='cast', calc='mean', top=10):\n",
    "    '''\n",
    "    Function to plot cast or genres against the mean or cumulated sum of revenue.\n",
    "    \n",
    "    Parameters:   prop - property, The property to calcute whether cast or genre\n",
    "                  calc - calculate, what you wish to calculate whether the mean of revenue\n",
    "                         or the cumulated sum of revenue\n",
    "                  top -  show the top k properties.\n",
    "     '''\n",
    "    # split cast/genres into a dataframe\n",
    "    if prop == 'cast':\n",
    "        prop_df = movie_df.assign(cast=movie_df[prop].str.split(\"|\")).explode(prop)\n",
    "    elif prop == 'genres':\n",
    "        prop_df = movie_df.assign(genres=movie_df[prop].str.split(\"|\")).explode(prop)\n",
    "    else:\n",
    "        print(\"Error: Either 'cast' or 'genres'\")\n",
    "        \n",
    "    # calculate the mean/sum and sort the top k\n",
    "    if calc == 'mean':\n",
    "        x = prop_df.groupby([prop])['revenue_adj'].mean().sort_values(ascending=False).head(top)\n",
    "    \n",
    "    elif calc == 'cumu':\n",
    "        x = prop_df.groupby([prop])['revenue_adj'].sum().sort_values(ascending=False).head(top)\n",
    "        calc = 'cumulated sum'\n",
    "    \n",
    "    else:\n",
    "        print(\"Error: Either 'mean' or 'cumu'\")\n",
    "    \n",
    "    #plotting\n",
    "    x.plot(kind='barh');\n",
    "    \n",
    "    calc_title = calc.title()\n",
    "    y_title = prop.title()\n",
    "    \n",
    "    plt.title('{} and their {} Revenue'.format(y_title, calc_title));\n",
    "    plt.xlabel('{} revenue'.format(calc));\n",
    "    plt.ylabel(prop);"
   ]
  },
  {
   "cell_type": "code",
   "execution_count": 27,
   "metadata": {},
   "outputs": [
    {
     "data": {
      "image/png": "[encoded data removed]",
      "text/plain": [
       "<Figure size 432x288 with 1 Axes>"
      ]
     },
     "metadata": {
      "needs_background": "light"
     },
     "output_type": "display_data"
    }
   ],
   "source": [
    "# display the top 10 cast and their average movie revenue\n",
    "CastGenre_revenue('cast', 'mean')"
   ]
  },
  {
   "cell_type": "markdown",
   "metadata": {},
   "source": [
    "> The plot above shows the top 10 cast that have acted in movies that  generated the most average revenues."
   ]
  },
  {
   "cell_type": "code",
   "execution_count": 28,
   "metadata": {},
   "outputs": [
    {
     "data": {
      "image/png": "[encoded data removed]",
      "text/plain": [
       "<Figure size 432x288 with 1 Axes>"
      ]
     },
     "metadata": {
      "needs_background": "light"
     },
     "output_type": "display_data"
    }
   ],
   "source": [
    "# display the top 10 genres an their average movie revenue\n",
    "CastGenre_revenue('genres', 'mean')"
   ]
  },
  {
   "cell_type": "markdown",
   "metadata": {},
   "source": [
    "> The plot above shows the top 10 genres that have generated the most average revenues."
   ]
  },
  {
   "cell_type": "markdown",
   "metadata": {},
   "source": [
    "<a id='thirdque'></a>\n",
    "### Research Question 3<br/>What's the trend of number of movies produced through the period?"
   ]
  },
  {
   "cell_type": "code",
   "execution_count": 29,
   "metadata": {
    "scrolled": true
   },
   "outputs": [
    {
     "data": {
      "image/png": "[encoded data removed]",
      "text/plain": [
       "<Figure size 432x288 with 1 Axes>"
      ]
     },
     "metadata": {
      "needs_background": "light"
     },
     "output_type": "display_data"
    }
   ],
   "source": [
    "b = movie_df.groupby('release_year').count()['original_title']\n",
    "b.plot();\n",
    "plt.title('Year & Number of Movies');\n",
    "plt.xlabel('release year');\n",
    "plt.ylabel('number of movies');"
   ]
  },
  {
   "cell_type": "code",
   "execution_count": 30,
   "metadata": {},
   "outputs": [
    {
     "name": "stdout",
     "output_type": "stream",
     "text": [
      "The number of movies produced in the last six(6)\n",
      " release_year\n",
      "2010    422\n",
      "2011    461\n",
      "2012    502\n",
      "2013    570\n",
      "2014    641\n",
      "2015    564\n",
      "Name: original_title, dtype: int64\n"
     ]
    }
   ],
   "source": [
    "print('The number of movies produced in the last six(6)\\n', b.tail(6))"
   ]
  },
  {
   "cell_type": "markdown",
   "metadata": {},
   "source": [
    "> The number of movies produced kept increasing even though it was not a constant increase from year to year.<br/>\n",
    "For instance, from the year 2010, the number of movies produce increased but dropped in 2015."
   ]
  },
  {
   "cell_type": "markdown",
   "metadata": {},
   "source": [
    "<a id='conclusions'></a>\n",
    "## Conclusions\n",
    "> The <a href=\"#firstque\">first question:</a> Which genres are most popular from year to year?<br/>\n",
    "It was clear that the genre _Drama_ was popular in most of the years<br/>\n",
    "To know the top k popular genres in a particular year use the ```plot_genre_year(a)``` function where a is a year (eg. plot_genre_year(2015)).\n",
    "\n",
    "> The <a href=\"#secondque\">second question:</a> What kinds of properties are associated with movies that have high revenues?<br/>\n",
    "From the visualization, three properties had a positive correlation with the movie's revenue. The three properties were budget, revenue and vote count*.\n",
    "\n",
    "> The <a href=\"#thirdque\">third question:</a> What's the trend of number of movies produced through the period?<br/>\n",
    "Number of movies produce are expected toincrease from time to time.\n",
    "\n",
    "> The movies were grouped by the cast to find the average of the revenue the movies generated. The same was done with the genre. It's safe to say some particular genre helps with high revenue generation. As with the cast, more studies needs to be done to ascertain this.\n",
    "\n",
    "*Limitation: No information was provided on how vote count was generated, whether it is a review vote or not. Even though popularity and vote has a high positive correlation, we cannot confidently conclude vote count influences high revenue. "
   ]
  },
  {
   "cell_type": "code",
   "execution_count": null,
   "metadata": {},
   "outputs": [],
   "source": []
  }
 ],
 "metadata": {
  "kernelspec": {
   "display_name": "Python 3",
   "language": "python",
   "name": "python3"
  },
  "language_info": {
   "codemirror_mode": {
    "name": "ipython",
    "version": 3
   },
   "file_extension": ".py",
   "mimetype": "text/x-python",
   "name": "python",
   "nbconvert_exporter": "python",
   "pygments_lexer": "ipython3",
   "version": "3.6.13"
  }
 },
 "nbformat": 4,
 "nbformat_minor": 2
}
